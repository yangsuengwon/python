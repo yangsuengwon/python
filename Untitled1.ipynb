{
 "cells": [
  {
   "cell_type": "code",
   "execution_count": 78,
   "id": "e8bcd541",
   "metadata": {
    "scrolled": true
   },
   "outputs": [
    {
     "name": "stdout",
     "output_type": "stream",
     "text": [
      "********************\n",
      "********************\n",
      "********************\n",
      "********************\n",
      "********************\n"
     ]
    }
   ],
   "source": [
    "def print_star() :\n",
    "    print('********************')\n",
    "print_star()\n",
    "print_star()\n",
    "print_star()\n",
    "print_star()\n",
    "print_star()"
   ]
  },
  {
   "cell_type": "code",
   "execution_count": 80,
   "id": "a9f28556",
   "metadata": {
    "scrolled": true
   },
   "outputs": [
    {
     "name": "stdout",
     "output_type": "stream",
     "text": [
      "이름 : 홍길순\n",
      "주소: 부산광역시 남구 광안로 10번길 1-1\n"
     ]
    }
   ],
   "source": [
    "def print_adress2(name,adress):\n",
    "    print('이름 :',name)\n",
    "    print('주소:',adress)\n",
    "print_adress2('홍길순','부산광역시 남구 광안로 10번길 1-1')"
   ]
  },
  {
   "cell_type": "code",
   "execution_count": 93,
   "id": "0b628aab",
   "metadata": {},
   "outputs": [
    {
     "name": "stdout",
     "output_type": "stream",
     "text": [
      "1 제곱 : 1 , 2 제곱 : 4 , 3 제곱 : 9\n"
     ]
    }
   ],
   "source": [
    "def get_square(a,b,c):\n",
    "    return a*a,b*b,c*c\n",
    "a,b,c=1,2,3\n",
    "a_sq,b_sq,c_sq=get_square(a,b,c)\n",
    "print(a,'제곱 :',a_sq,',',b,'제곱 :',b_sq,',',c,'제곱 :',c_sq)"
   ]
  },
  {
   "cell_type": "code",
   "execution_count": 2,
   "id": "abda645f",
   "metadata": {},
   "outputs": [
    {
     "name": "stdout",
     "output_type": "stream",
     "text": [
      "counter = 200\n",
      "counter = 200\n"
     ]
    }
   ],
   "source": [
    "def print_counter():\n",
    "    global counter\n",
    "    counter=200\n",
    "    print('counter =',counter)\n",
    "print_counter()\n",
    "print('counter =',counter)"
   ]
  },
  {
   "cell_type": "code",
   "execution_count": 5,
   "id": "85f32491",
   "metadata": {},
   "outputs": [
    {
     "name": "stdout",
     "output_type": "stream",
     "text": [
      "햄버거 1 개 - 피클 True, 양파 True\n"
     ]
    }
   ],
   "source": [
    "def ord(num,pickle=True,onion=True):\n",
    "    print('햄버거 {0} 개 - 피클 {1}, 양파 {2}'.format(num,pickle,onion))\n",
    "ord(1)\n",
    "    "
   ]
  },
  {
   "cell_type": "code",
   "execution_count": 2,
   "id": "e7466dcb",
   "metadata": {},
   "outputs": [
    {
     "name": "stdout",
     "output_type": "stream",
     "text": [
      "시급과 근무시간 입력10000,38\n",
      "주급은420000.0\n"
     ]
    }
   ],
   "source": [
    "def weeklypay(rate,hour):\n",
    "    if(hour<30):\n",
    "        money=rate*hour\n",
    "    else:\n",
    "        money=rate*30+rate*(hour-30)*1.5\n",
    "    return money\n",
    "r,h=map(int,input('시급과 근무시간 입력').split(','))\n",
    "print('주급은'+str(weeklypay(rate=r,hour=h)))"
   ]
  },
  {
   "cell_type": "code",
   "execution_count": 3,
   "id": "322e1c6e",
   "metadata": {},
   "outputs": [
    {
     "name": "stdout",
     "output_type": "stream",
     "text": [
      "[27, 90, 30, 87, 56]\n",
      "최댓값을 원하면 max,최솟값을 원하면 min을 입력하시오: aa\n",
      "illegal method\n",
      "None\n"
     ]
    }
   ],
   "source": [
    "def getMinMax(mylist,method='max'):\n",
    "    minvalue=mylist[0]\n",
    "    maxvalue=mylist[0]\n",
    "    if(method=='max'):\n",
    "        for value in mylist:\n",
    "            if value > maxvalue:\n",
    "                maxvalue=value\n",
    "        return maxvalue\n",
    "    elif(method=='min'):\n",
    "        for value in mylist:\n",
    "            if value<minvalue:\n",
    "                minvalue=value\n",
    "        return minvalue\n",
    "    else:\n",
    "        print('illegal method')\n",
    "data=[27,90,30,87,56]\n",
    "print(data)\n",
    "s=input('최댓값을 원하면 max,최솟값을 원하면 min을 입력하시오: ')\n",
    "print(getMinMax(data,s))"
   ]
  },
  {
   "cell_type": "code",
   "execution_count": 1,
   "id": "5cd8ae55",
   "metadata": {},
   "outputs": [],
   "source": [
    "import turtle\n",
    "def drawBar(height):\n",
    "    t.begin_fill()\n",
    "    t.left(90)\n",
    "    t.forward(height)\n",
    "    t.write(str(height))\n",
    "    t.right(90)\n",
    "    t.forward(40)\n",
    "    t.right(90)\n",
    "    t.forward(height)\n",
    "    t.left(90)\n",
    "    t.end_fill\n",
    "data=[120,56,309,220,156,23,98]\n",
    "t=turtle.Turtle()\n",
    "t.color('blue')\n",
    "t.fillcolor(\"red\")\n",
    "t.pensize(3)\n",
    "\n",
    "drawBar(309)"
   ]
  },
  {
   "cell_type": "code",
   "execution_count": 1,
   "id": "f088e4a9",
   "metadata": {},
   "outputs": [],
   "source": [
    "import turtle\n",
    "t=turtle.Turtle()\n",
    "t.shape('turtle')\n",
    "t.speed(0)\n",
    "def f(x):\n",
    "    return x**2+1\n",
    "t.goto(200,0)\n",
    "t.goto(0,0)\n",
    "t.goto(0,200)\n",
    "t.goto(0,0)\n",
    "for x in range(150):\n",
    "    t.goto(x,int(0.01*f(x)))"
   ]
  },
  {
   "cell_type": "code",
   "execution_count": 2,
   "id": "1c679ce6",
   "metadata": {
    "scrolled": true
   },
   "outputs": [
    {
     "name": "stdout",
     "output_type": "stream",
     "text": [
      "120\n"
     ]
    }
   ],
   "source": [
    "def fac(n):\n",
    "    if n<=1:\n",
    "        return 1\n",
    "    else:\n",
    "        return n*fac(n-1)\n",
    "print(fac(5))"
   ]
  },
  {
   "cell_type": "code",
   "execution_count": 38,
   "id": "71def22e",
   "metadata": {
    "scrolled": true
   },
   "outputs": [
    {
     "name": "stdout",
     "output_type": "stream",
     "text": [
      "10\n",
      "34\n"
     ]
    }
   ],
   "source": [
    "def fibo(n):\n",
    "    if n<0:\n",
    "        print('잘못된입력')\n",
    "    elif n==1:\n",
    "        return 0\n",
    "    elif n==2:\n",
    "        return 1\n",
    "    else :\n",
    "        return fibo(n-1)+fibo(n-2)\n",
    "i=int(input(''))\n",
    "print(fibo(i))"
   ]
  },
  {
   "cell_type": "code",
   "execution_count": 1,
   "id": "e2a9190b",
   "metadata": {},
   "outputs": [
    {
     "name": "stdout",
     "output_type": "stream",
     "text": [
      "1 4 9\n"
     ]
    }
   ],
   "source": [
    "a,b,c=1,2,3\n",
    "def get_square(a,b,c):\n",
    "    return a*a,b*b,c*c\n",
    "a_sq,b_sq,c_sq=get_square(a,b,c)\n",
    "print(a_sq,b_sq,c_sq)"
   ]
  },
  {
   "cell_type": "code",
   "execution_count": 3,
   "id": "50e13694",
   "metadata": {},
   "outputs": [
    {
     "name": "stdout",
     "output_type": "stream",
     "text": [
      "78.5\n"
     ]
    }
   ],
   "source": [
    "def cal(radius):\n",
    "    global area\n",
    "    area=3.14*radius**2\n",
    "    return\n",
    "area=0\n",
    "cal(5.0)\n",
    "print(area)"
   ]
  },
  {
   "cell_type": "code",
   "execution_count": 8,
   "id": "fdeb0197",
   "metadata": {},
   "outputs": [
    {
     "name": "stdout",
     "output_type": "stream",
     "text": [
      "햄버거 1 개 - 피클 True, 양파True\n",
      "햄버거 2 개 - 피클 False, 양파True\n"
     ]
    }
   ],
   "source": [
    "def ord(num,pickle=True,onion=True):\n",
    "    print('햄버거 {0} 개 - 피클 {1}, 양파{2}'.format(num,pickle,onion))\n",
    "ord(1)\n",
    "ord(2,pickle=False,onion=True)"
   ]
  },
  {
   "cell_type": "code",
   "execution_count": 24,
   "id": "10017057",
   "metadata": {},
   "outputs": [
    {
     "name": "stdout",
     "output_type": "stream",
     "text": [
      "420000.0\n"
     ]
    }
   ],
   "source": [
    "def weeklypay(rate,hour):\n",
    "    if hour<30:\n",
    "        money=rate*hour\n",
    "    else:\n",
    "        money=30*rate+(hour-30)*(rate*1.5)\n",
    "    return money\n",
    "    \n",
    "money=weeklypay(10000,38)\n",
    "print(money)"
   ]
  },
  {
   "cell_type": "code",
   "execution_count": 47,
   "id": "7da974ff",
   "metadata": {},
   "outputs": [
    {
     "name": "stdout",
     "output_type": "stream",
     "text": [
      "27\n"
     ]
    }
   ],
   "source": [
    "def minmax(mylist,method='max'):\n",
    "    maxvalue=mylist[0]\n",
    "    minvalue=mylist[0]\n",
    "    \n",
    "    if method=='max':\n",
    "        for value in mylist:\n",
    "            if value>maxvalue:\n",
    "                maxvalue=value\n",
    "        return maxvalue\n",
    "    elif method=='min':\n",
    "        for value in mylist:\n",
    "            if value<minvalue:\n",
    "                minvalue=value\n",
    "        return minvalue\n",
    "            \n",
    "list_data=[27,90,30,87,56]\n",
    "a=minmax(list_data,method='min')\n",
    "print(a)"
   ]
  },
  {
   "cell_type": "code",
   "execution_count": 15,
   "id": "c953c42c",
   "metadata": {
    "scrolled": true
   },
   "outputs": [
    {
     "ename": "TypeError",
     "evalue": "extend() takes exactly one argument (2 given)",
     "output_type": "error",
     "traceback": [
      "\u001b[1;31m---------------------------------------------------------------------------\u001b[0m",
      "\u001b[1;31mTypeError\u001b[0m                                 Traceback (most recent call last)",
      "\u001b[1;32m<ipython-input-15-d8552b8265a2>\u001b[0m in \u001b[0;36m<module>\u001b[1;34m\u001b[0m\n\u001b[0;32m      1\u001b[0m \u001b[0mcity_info\u001b[0m\u001b[1;33m=\u001b[0m\u001b[1;33m[\u001b[0m\u001b[1;33m(\u001b[0m\u001b[1;34m'서울'\u001b[0m\u001b[1;33m,\u001b[0m\u001b[1;36m9765\u001b[0m\u001b[1;33m)\u001b[0m\u001b[1;33m,\u001b[0m\u001b[1;33m(\u001b[0m\u001b[1;34m'부산'\u001b[0m\u001b[1;33m,\u001b[0m\u001b[1;36m3441\u001b[0m\u001b[1;33m)\u001b[0m\u001b[1;33m,\u001b[0m\u001b[1;33m(\u001b[0m\u001b[1;34m'인천'\u001b[0m\u001b[1;33m,\u001b[0m\u001b[1;36m2954\u001b[0m\u001b[1;33m)\u001b[0m\u001b[1;33m,\u001b[0m\u001b[1;33m(\u001b[0m\u001b[1;34m'광주'\u001b[0m\u001b[1;33m,\u001b[0m\u001b[1;36m1501\u001b[0m\u001b[1;33m)\u001b[0m\u001b[1;33m,\u001b[0m\u001b[1;33m(\u001b[0m\u001b[1;34m'대전'\u001b[0m\u001b[1;33m,\u001b[0m\u001b[1;36m1531\u001b[0m\u001b[1;33m)\u001b[0m\u001b[1;33m]\u001b[0m\u001b[1;33m\u001b[0m\u001b[1;33m\u001b[0m\u001b[0m\n\u001b[1;32m----> 2\u001b[1;33m \u001b[0mcity_info\u001b[0m\u001b[1;33m.\u001b[0m\u001b[0mextend\u001b[0m\u001b[1;33m(\u001b[0m\u001b[1;34m'경기'\u001b[0m\u001b[1;33m,\u001b[0m\u001b[1;36m3245\u001b[0m\u001b[1;33m)\u001b[0m\u001b[1;33m\u001b[0m\u001b[1;33m\u001b[0m\u001b[0m\n\u001b[0m\u001b[0;32m      3\u001b[0m \u001b[0mprint\u001b[0m\u001b[1;33m(\u001b[0m\u001b[0mcity_info\u001b[0m\u001b[1;33m)\u001b[0m\u001b[1;33m\u001b[0m\u001b[1;33m\u001b[0m\u001b[0m\n",
      "\u001b[1;31mTypeError\u001b[0m: extend() takes exactly one argument (2 given)"
     ]
    }
   ],
   "source": [
    "city_info=[('서울',9765),('부산',3441),('인천',2954),('광주',1501),('대전',1531)]\n",
    "city_info.extend('경기',3245)\n",
    "print(city_info)"
   ]
  },
  {
   "cell_type": "code",
   "execution_count": 2,
   "id": "b96a4cd9",
   "metadata": {},
   "outputs": [
    {
     "name": "stdout",
     "output_type": "stream",
     "text": [
      "w\n",
      "t\n",
      "t\n",
      "p\n",
      "w\n"
     ]
    }
   ],
   "source": [
    "a=['welcom','to','the','python','world']\n",
    "for x in a:\n",
    "    print(x[0])"
   ]
  },
  {
   "cell_type": "code",
   "execution_count": 32,
   "id": "93929a43",
   "metadata": {},
   "outputs": [
    {
     "data": {
      "text/plain": [
       "[(1, 4), (1, 5), (1, 6), (2, 4), (2, 5), (2, 6), (3, 4), (3, 5), (3, 6)]"
      ]
     },
     "execution_count": 32,
     "metadata": {},
     "output_type": "execute_result"
    }
   ],
   "source": [
    "[(x,y) for x in [1,2,3]for y in [4,5,6] if x!=y]"
   ]
  },
  {
   "cell_type": "code",
   "execution_count": 56,
   "id": "b85914df",
   "metadata": {},
   "outputs": [
    {
     "name": "stdout",
     "output_type": "stream",
     "text": [
      "서울 9765\n",
      "광주 1501\n",
      "3838.4\n"
     ]
    }
   ],
   "source": [
    "city_info=[(\"서울\",9765),(\"부산\",3441),(\"인천\",2954),(\"광주\",1501),(\"대전\",1531)]\n",
    "maxpop=city_info[0][1]\n",
    "minpop=city_info[0][1]\n",
    "n=0\n",
    "sum=0\n",
    "max=city_info[0]\n",
    "min=city_info[0]\n",
    "for city in city_info:\n",
    "    if maxpop<city[1]:\n",
    "        maxpop=city[1]\n",
    "        max=city\n",
    "    elif minpop>city[1]:\n",
    "        minpop=city[1]\n",
    "        min=city\n",
    "    n+=1\n",
    "    sum+=city[1]\n",
    "print(\"최대인구 : {0}, 인구: {1} 천명\".format(city))"
   ]
  },
  {
   "cell_type": "code",
   "execution_count": 28,
   "id": "08718b62",
   "metadata": {
    "scrolled": true
   },
   "outputs": [
    {
     "name": "stdout",
     "output_type": "stream",
     "text": [
      "[('홍길동', '010-1234-5678'), ('강감찬', '010-1234-5679'), ('이순신', '010-1234-5680')]\n"
     ]
    }
   ],
   "source": [
    "x={}\n",
    "x[\"홍길동\"]=\"010-1234-5678\"\n",
    "x[\"강감찬\"]=\"010-1234-5679\"\n",
    "x[\"이순신\"]=\"010-1234-5680\"\n",
    "a=sorted(x.items(),key=lambda x:x[1])\n",
    "print(a)\n"
   ]
  },
  {
   "cell_type": "code",
   "execution_count": 34,
   "id": "a453ea59",
   "metadata": {},
   "outputs": [
    {
     "data": {
      "text/plain": [
       "{3, 4}"
      ]
     },
     "execution_count": 34,
     "metadata": {},
     "output_type": "execute_result"
    }
   ],
   "source": [
    "a={1,2,3,4}\n",
    "b={3,4,5,6}\n",
    "a&b"
   ]
  },
  {
   "cell_type": "code",
   "execution_count": 4,
   "id": "f6eb6910",
   "metadata": {},
   "outputs": [
    {
     "name": "stdout",
     "output_type": "stream",
     "text": [
      "문장을 입력하시오: ATTACK\n",
      "DWWDFN\n"
     ]
    }
   ],
   "source": [
    "import string\n",
    "s=string.ascii_uppercase;\n",
    "str=s[3:]+s[:3]\n",
    "answer=\"\";\n",
    "words=input(\"문장을 입력하시오: \")\n",
    "for ch in words:\n",
    "    if ch in s:\n",
    "        idx=s.index(ch)\n",
    "        answer+=str[idx]\n",
    "    else:\n",
    "        answer+=\"\";\n",
    "print(answer)"
   ]
  },
  {
   "cell_type": "code",
   "execution_count": 5,
   "id": "eb2f3061",
   "metadata": {},
   "outputs": [
    {
     "data": {
      "text/plain": [
       "26"
      ]
     },
     "execution_count": 5,
     "metadata": {},
     "output_type": "execute_result"
    }
   ],
   "source": [
    "t=\"There's a reason some people are working to make it harder to vote, especally for people of color. It's because when we show up, things changes.\"\n",
    "len(t.split())"
   ]
  },
  {
   "cell_type": "code",
   "execution_count": 12,
   "id": "771264db",
   "metadata": {},
   "outputs": [
    {
     "name": "stdout",
     "output_type": "stream",
     "text": [
      "[article] 200820 blackpink jennie is regarded to have great effect on * mystic red as it was chosen by 50% of those who prebooked for the * galaxy note 20 ( * u+ mystic pink 30%, * mystic blue not disclosed) \n"
     ]
    }
   ],
   "source": [
    "t = '[ARTICLE] 200820 BLACKPINK Jennie is regarded to have great effect on KT Mystic \\\n",
    "Red as it was chosen by 50% of those who prebooked for the Samsung Galaxy Note 20 ( LG \\\n",
    "U+ Mystic Pink 30%, SKT Mystic Blue not disclosed) '\n",
    "t=t.lower()\n",
    "str=t.split()\n",
    "t=\"\"\n",
    "for ch in str:\n",
    "    if ch==\"kt\" or ch==\"skt\" or ch==\"samsung\" or ch==\"lg\":\n",
    "        t+=\"* \"\n",
    "    else:\n",
    "        t+=ch+\" \"\n",
    "print(t)"
   ]
  },
  {
   "cell_type": "code",
   "execution_count": 4,
   "id": "3a2f7bf2",
   "metadata": {},
   "outputs": [
    {
     "data": {
      "text/plain": [
       "\"it's not the right time to conduct exams. my demand in bold and capital. no exams in covid!!!\""
      ]
     },
     "execution_count": 4,
     "metadata": {},
     "output_type": "execute_result"
    }
   ],
   "source": [
    "t=\"It's Not The Right Time To Conduct Exams. MY DEMAND IN BOLD AND CAPITAL. NO EXAMS IN COVID!!!\"\n",
    "t=t.lower()\n",
    "t"
   ]
  },
  {
   "cell_type": "code",
   "execution_count": 9,
   "id": "58eb572f",
   "metadata": {},
   "outputs": [
    {
     "name": "stdout",
     "output_type": "stream",
     "text": [
      "46 3\n"
     ]
    }
   ],
   "source": [
    "t=\"It's Not The Right Time To Conduct Exams. MY DEMAND IN BOLD AND CAPITAL. NO EXAMS IN COVID!!!\"\n",
    "n=0\n",
    "for ch in t:\n",
    "    if ch.isupper():\n",
    "        n+=1\n",
    "    \n",
    "n2=t.count(\"!\")\n",
    "print(n,n2)"
   ]
  },
  {
   "cell_type": "code",
   "execution_count": null,
   "id": "61570dfc",
   "metadata": {},
   "outputs": [],
   "source": [
    "n=int(input(\"몇 자리의 비밀번호를 원하십니까? \"))\n",
    "str=\"0123456789\"\n",
    "otp=\"\";\n",
    "for i in range(n):\n",
    "    otp+="
   ]
  },
  {
   "cell_type": "code",
   "execution_count": null,
   "id": "dc30c79f",
   "metadata": {},
   "outputs": [
    {
     "name": "stdout",
     "output_type": "stream",
     "text": [
      "메뉴를 선택하시오 1)재고조회 2) 입고 3) 출고 4) 종료: 3\n",
      "[출고] 물건의 이름과 수량을 입력하시오 :콜라,10\n",
      "메뉴를 선택하시오 1)재고조회 2) 입고 3) 출고 4) 종료: 1\n",
      "[재고조회] 물건의 이름을 입력하시오: 코라\n",
      "재고 : None\n",
      "메뉴를 선택하시오 1)재고조회 2) 입고 3) 출고 4) 종료: 1\n",
      "[재고조회] 물건의 이름을 입력하시오: 콜라\n",
      "재고 : -6\n"
     ]
    }
   ],
   "source": [
    "sum=lambda x,y:x+y\n",
    "minus=lambda x,y:x-y\n",
    "items={\"커피음료\" : 7,\"펜\":3,\"종이컵\":2,\"우유\":1,\"콜라\":4,\"책\":5}\n",
    "while True:\n",
    "    n=int(input(\"메뉴를 선택하시오 1)재고조회 2) 입고 3) 출고 4) 종료: \"))\n",
    "    if n==1:\n",
    "        str=input(\"[재고조회] 물건의 이름을 입력하시오: \")\n",
    "        print(\"재고 :\",items.get(str))\n",
    "    if n==2:\n",
    "        key,value=map(str,input(\"[입고] 물건의 이름과 수량을 입력하시오 :\").split(\",\"))\n",
    "        items[key]=sum(items[key],int(value))\n",
    "    if n==3:\n",
    "        key,value=map(str,input(\"[출고] 물건의 이름과 수량을 입력하시오 :\").split(\",\"))\n",
    "        items[key]=minus(items[key],int(value))\n",
    "    if n==4:\n",
    "        print(\"프로그램을 종료합니다.\")\n",
    "        break;"
   ]
  },
  {
   "cell_type": "code",
   "execution_count": 9,
   "id": "b6184710",
   "metadata": {},
   "outputs": [
    {
     "name": "stdout",
     "output_type": "stream",
     "text": [
      "입력10,20\n"
     ]
    },
    {
     "data": {
      "text/plain": [
       "30"
      ]
     },
     "execution_count": 9,
     "metadata": {},
     "output_type": "execute_result"
    }
   ],
   "source": [
    "s1,s2=map(str,input(\"입력\").split(\",\"))"
   ]
  },
  {
   "cell_type": "code",
   "execution_count": 3,
   "id": "e5237a95",
   "metadata": {},
   "outputs": [
    {
     "name": "stdout",
     "output_type": "stream",
     "text": [
      "문장을 입력하시오ATTACK\n",
      "DWWDFN\n"
     ]
    }
   ],
   "source": [
    "import string\n",
    "def index(d):\n",
    "    idx=a.index(d)\n",
    "    return b[idx]\n",
    "a=string.ascii_uppercase\n",
    "b=a[3:]+a[:3]\n",
    "e=\"\"\n",
    "c=input(\"문장을 입력하시오\")\n",
    "for ch in c:\n",
    "    if ch in a:\n",
    "        e+=index(ch)\n",
    "    else :\n",
    "        e+=\"\"\n",
    "print(e)\n"
   ]
  },
  {
   "cell_type": "code",
   "execution_count": 5,
   "id": "8e971a14",
   "metadata": {},
   "outputs": [
    {
     "name": "stdout",
     "output_type": "stream",
     "text": [
      "word count: 26\n"
     ]
    }
   ],
   "source": [
    "t=\"There's a reason some people are working to make it harder to vote, especally for people of color. It's because when we show up, things changes.\"\n",
    "print(\"word count:\",len(t.split(\" \")))"
   ]
  },
  {
   "cell_type": "code",
   "execution_count": 14,
   "id": "73ebc8ca",
   "metadata": {},
   "outputs": [
    {
     "name": "stdout",
     "output_type": "stream",
     "text": [
      "[article] 200820 blackpink jennie is regarded to have great effect on * mystic red as it was chosen by 50% of those who prebooked for the * galaxy note 20 ( * u+ mystic pink 30%, * mystic blue not disclosed)  \n"
     ]
    }
   ],
   "source": [
    "t = '[ARTICLE] 200820 BLACKPINK Jennie is regarded to have great effect on KT Mystic \\\n",
    "Red as it was chosen by 50% of those who prebooked for the Samsung Galaxy Note 20 ( LG \\\n",
    "U+ Mystic Pink 30%, SKT Mystic Blue not disclosed) '\n",
    "t=t.lower()\n",
    "str=t.split(\" \")\n",
    "t=\"\"\n",
    "for ch in str:\n",
    "    if ch==\"kt\" or ch==\"skt\" or ch==\"lg\" or ch==\"samsung\":\n",
    "        t+=\"* \"\n",
    "    else :\n",
    "        t+=ch+\" \"\n",
    "print(t)"
   ]
  },
  {
   "cell_type": "code",
   "execution_count": 16,
   "id": "02e04503",
   "metadata": {},
   "outputs": [
    {
     "data": {
      "text/plain": [
       "\"it's not the right time to conduct exams. my demand in bold and capital. no exams in covid!!!\""
      ]
     },
     "execution_count": 16,
     "metadata": {},
     "output_type": "execute_result"
    }
   ],
   "source": [
    "t=\"It's Not The Right Time To Conduct Exams. MY DEMAND IN BOLD AND CAPITAL. NO EXAMS IN COVID!!!\"\n",
    "l=t.lower()\n",
    "l"
   ]
  },
  {
   "cell_type": "code",
   "execution_count": 19,
   "id": "7875e90d",
   "metadata": {},
   "outputs": [
    {
     "name": "stdout",
     "output_type": "stream",
     "text": [
      "46 3\n"
     ]
    }
   ],
   "source": [
    "t=\"It's Not The Right Time To Conduct Exams. MY DEMAND IN BOLD AND CAPITAL. NO EXAMS IN COVID!!!\"\n",
    "a=0\n",
    "for ch in t:\n",
    "    if ch.isupper():\n",
    "        a+=1\n",
    "\n",
    "print(a,t.count(\"!\"))"
   ]
  },
  {
   "cell_type": "code",
   "execution_count": null,
   "id": "d8d633e3",
   "metadata": {},
   "outputs": [],
   "source": [
    "import random\n",
    "s=\"0123456789\"\n",
    "otp=\"\"\n",
    "n=int(input(\"몇 자리의 비밀번호를 원하십니까? \"))\n",
    "for i in range(n):\n",
    "    otp+=random.choice(s)"
   ]
  },
  {
   "cell_type": "code",
   "execution_count": 2,
   "id": "cee26a2a",
   "metadata": {},
   "outputs": [
    {
     "data": {
      "text/plain": [
       "datetime.datetime(2021, 12, 2, 23, 50, 19, 838056)"
      ]
     },
     "execution_count": 2,
     "metadata": {},
     "output_type": "execute_result"
    }
   ],
   "source": [
    "import datetime\n",
    "datetime.datetime.now()"
   ]
  },
  {
   "cell_type": "code",
   "execution_count": 20,
   "id": "ddca852f",
   "metadata": {},
   "outputs": [
    {
     "name": "stdout",
     "output_type": "stream",
     "text": [
      "정수 입력100,200,300,400\n"
     ]
    },
    {
     "data": {
      "text/plain": [
       "[100, 200, 300, 400]"
      ]
     },
     "execution_count": 20,
     "metadata": {},
     "output_type": "execute_result"
    }
   ],
   "source": [
    "[int(x) for x in input(\"정수 입력\").split(\",\")]"
   ]
  },
  {
   "cell_type": "code",
   "execution_count": 32,
   "id": "4155846e",
   "metadata": {},
   "outputs": [
    {
     "data": {
      "text/plain": [
       "[('강감찬', '010-1234-5679'), ('이순신', '010-1234-5680'), ('홍길동', '010-1234-5678')]"
      ]
     },
     "execution_count": 32,
     "metadata": {},
     "output_type": "execute_result"
    }
   ],
   "source": [
    "a={}\n",
    "a[\"홍길동\"]=\"010-1234-5678\"\n",
    "a[\"강감찬\"]=\"010-1234-5679\"\n",
    "a[\"이순신\"]=\"010-1234-5680\"\n",
    "sorted(a.items(),key=lambda x:x[0] )"
   ]
  },
  {
   "cell_type": "code",
   "execution_count": 33,
   "id": "c6e1cfe7",
   "metadata": {},
   "outputs": [
    {
     "data": {
      "text/plain": [
       "30"
      ]
     },
     "execution_count": 33,
     "metadata": {},
     "output_type": "execute_result"
    }
   ],
   "source": [
    "sum=lambda x,y:x+y\n",
    "sum(10,20)"
   ]
  },
  {
   "cell_type": "code",
   "execution_count": 2,
   "id": "604ca3a9",
   "metadata": {},
   "outputs": [
    {
     "name": "stdout",
     "output_type": "stream",
     "text": [
      "문장을 입력하시오: attack\n",
      "\n"
     ]
    }
   ],
   "source": [
    "import string\n",
    "def index(d):\n",
    "    idx=a.index(d)\n",
    "    return b[idx]\n",
    "e=\"\"\n",
    "a=string.ascii_uppercase\n",
    "b=a[3:]+a[:3]\n",
    "c=input(\"문장을 입력하시오: \")\n",
    "for ch in c:\n",
    "    if ch in a:\n",
    "        e+=index(ch)\n",
    "    else:\n",
    "        e+=\"\"\n",
    "print(e)"
   ]
  },
  {
   "cell_type": "code",
   "execution_count": 2,
   "id": "92358594",
   "metadata": {},
   "outputs": [
    {
     "name": "stdout",
     "output_type": "stream",
     "text": [
      "[article] 200820 blackpink jennie is regarded to have great effect on * mystic red as it was chosen by 50% of those who prebooked for the * galaxy note 20 ( * u+ mystic pink 30%, * mystic blue not disclosed)  \n"
     ]
    }
   ],
   "source": [
    "t = '[ARTICLE] 200820 BLACKPINK Jennie is regarded to have great effect on KT Mystic \\\n",
    "Red as it was chosen by 50% of those who prebooked for the Samsung Galaxy Note 20 ( LG \\\n",
    "U+ Mystic Pink 30%, SKT Mystic Blue not disclosed) '\n",
    "t=t.lower()\n",
    "a=t.split(\" \")\n",
    "t=\"\"\n",
    "for ch in a:\n",
    "    if ch=='kt' or ch=='skt' or ch=='lg' or ch=='samsung':\n",
    "        t+='* '\n",
    "    else :\n",
    "        t+=ch+\" \"\n",
    "print(t)"
   ]
  },
  {
   "cell_type": "code",
   "execution_count": 4,
   "id": "6f846e4f",
   "metadata": {},
   "outputs": [
    {
     "name": "stdout",
     "output_type": "stream",
     "text": [
      "46 3\n"
     ]
    }
   ],
   "source": [
    "t=\"It's Not The Right Time To Conduct Exams. MY DEMAND IN BOLD AND CAPITAL. NO EXAMS IN COVID!!!\"\n",
    "n=0\n",
    "for s in t:\n",
    "    if s.isupper():\n",
    "        n+=1\n",
    "print(n,t.count(\"!\"))"
   ]
  },
  {
   "cell_type": "code",
   "execution_count": 7,
   "id": "84c11535",
   "metadata": {},
   "outputs": [
    {
     "name": "stdout",
     "output_type": "stream",
     "text": [
      "입력10,20,30,40,50\n",
      "[10, 20, 30, 40, 50]\n"
     ]
    }
   ],
   "source": [
    "import random\n",
    "import string\n",
    "n=int(input(\"몇 자리의 비밀번호를 원하십니까?\"))\n",
    "s=\"0123456789\"\n",
    "otp=\"\"\n",
    "for x in range(n):\n",
    "    otp+="
   ]
  },
  {
   "cell_type": "code",
   "execution_count": 10,
   "id": "78c348f7",
   "metadata": {},
   "outputs": [
    {
     "name": "stdout",
     "output_type": "stream",
     "text": [
      "26\n"
     ]
    }
   ],
   "source": [
    "t=\"There's a reason some people are working to make it harder to vote, especally for people of color. It's because when we show up, things changes.\"\n",
    "a=len(t.split())\n",
    "print(a)"
   ]
  },
  {
   "cell_type": "code",
   "execution_count": 19,
   "id": "3ca2acfb",
   "metadata": {},
   "outputs": [
    {
     "name": "stdout",
     "output_type": "stream",
     "text": [
      "[article] 200820 blackpink jennie is regarded to have great effect on * mystic red as it was chosen by 50% of those who prebooked for the * galaxy note 20 ( * u+ mystic pink 30%, * mystic blue not disclosed) \n"
     ]
    }
   ],
   "source": [
    "t = '[ARTICLE] 200820 BLACKPINK Jennie is regarded to have great effect on KT Mystic \\\n",
    "Red as it was chosen by 50% of those who prebooked for the Samsung Galaxy Note 20 ( LG \\\n",
    "U+ Mystic Pink 30%, SKT Mystic Blue not disclosed) '\n",
    "t=t.lower()\n",
    "str=t.split()\n",
    "t=\"\"\n",
    "for x in str:\n",
    "    if x ==\"kt\" or x==\"skt\" or x==\"samsung\"or x==\"lg\":\n",
    "        t+=\"* \"\n",
    "    else:\n",
    "        t+=x+\" \"\n",
    "print(t)"
   ]
  },
  {
   "cell_type": "code",
   "execution_count": 26,
   "id": "86494dd7",
   "metadata": {},
   "outputs": [
    {
     "name": "stdout",
     "output_type": "stream",
     "text": [
      "3 46\n"
     ]
    }
   ],
   "source": [
    "t=\"It's Not The Right Time To Conduct Exams. MY DEMAND IN BOLD AND CAPITAL. NO EXAMS IN COVID!!!\"\n",
    "n=0\n",
    "for x in t:\n",
    "    if x.isupper():\n",
    "        n+=1\n",
    "print(t.count(\"!\"),n)"
   ]
  },
  {
   "cell_type": "code",
   "execution_count": 7,
   "id": "1e192ab4",
   "metadata": {},
   "outputs": [
    {
     "name": "stdout",
     "output_type": "stream",
     "text": [
      "몇 자리의 비밀번호를 원하십니까?10\n",
      "4g03gYl3MC\n"
     ]
    }
   ],
   "source": [
    "import string\n",
    "import random\n",
    "str=string.ascii_letters\n",
    "str+=\"1234567890\"\n",
    "n=int(input(\"몇 자리의 비밀번호를 원하십니까?\"))\n",
    "otp=\"\"\n",
    "for x in range(n):\n",
    "    otp+=random.choice(str)\n",
    "print(otp)"
   ]
  },
  {
   "cell_type": "code",
   "execution_count": 17,
   "id": "056aff1b",
   "metadata": {},
   "outputs": [
    {
     "name": "stdout",
     "output_type": "stream",
     "text": [
      "<re.Match object; span=(0, 4), match='Life'>\n",
      "<re.Match object; span=(23, 27), match='life'>\n"
     ]
    }
   ],
   "source": [
    "import re\n",
    "txt1=\"Life is too short, you need python.\"\n",
    "txt2=\"The best moments of my life.\"\n",
    "print(re.search('Life|life',txt1))\n",
    "print(re.search('[lL]ife',txt2))"
   ]
  },
  {
   "cell_type": "code",
   "execution_count": 21,
   "id": "d754a32a",
   "metadata": {},
   "outputs": [
    {
     "name": "stdout",
     "output_type": "stream",
     "text": [
      "<re.Match object; span=(0, 4), match='Life'>\n",
      "None\n",
      "None\n"
     ]
    }
   ],
   "source": [
    "import re\n",
    "txt1=\"Life is too short, you need python.\"\n",
    "txt2=\"The best moments of my life.\"\n",
    "txt3=\"My Life My Choice.\"\n",
    "print(re.search('^Life',txt1))\n",
    "print(re.search('^Life',txt2))\n",
    "print(re.search('^Life',txt3))"
   ]
  },
  {
   "cell_type": "code",
   "execution_count": 24,
   "id": "11818cb2",
   "metadata": {},
   "outputs": [
    {
     "name": "stdout",
     "output_type": "stream",
     "text": [
      "None\n",
      "<re.Match object; span=(23, 27), match='life'>\n"
     ]
    }
   ],
   "source": [
    "import re\n",
    "txt1=\"Who are you to judge the life I live\"\n",
    "txt2=\"The best moments of my life\"\n",
    "print(re.search('life$',txt1))\n",
    "print(re.search('life$',txt2))"
   ]
  },
  {
   "cell_type": "code",
   "execution_count": 27,
   "id": "e981e301",
   "metadata": {},
   "outputs": [
    {
     "name": "stdout",
     "output_type": "stream",
     "text": [
      "None\n",
      "<re.Match object; span=(0, 4), match='ABBA'>\n",
      "None\n"
     ]
    }
   ],
   "source": [
    "import re\n",
    "print(re.search('A..A','ABA'))\n",
    "print(re.search('A..A','ABBA'))\n",
    "print(re.search('A..A','ABBBA'))"
   ]
  },
  {
   "cell_type": "code",
   "execution_count": 34,
   "id": "10efccf8",
   "metadata": {},
   "outputs": [
    {
     "name": "stdout",
     "output_type": "stream",
     "text": [
      "<re.Match object; span=(0, 1), match='A'>\n",
      "<re.Match object; span=(0, 1), match='A'>\n",
      "None\n",
      "<re.Match object; span=(3, 4), match='A'>\n",
      "<re.Match object; span=(1, 4), match='ABB'>\n",
      "<re.Match object; span=(1, 7), match='ABBBBB'>\n"
     ]
    }
   ],
   "source": [
    "import re\n",
    "print(re.search('AB*','A'))\n",
    "print(re.search('AB*','AA'))\n",
    "print(re.search('AB*','J-HOPE'))\n",
    "print(re.search('AB*','X-MAN'))\n",
    "print(re.search('AB*','CABBA'))\n",
    "print(re.search('AB*','CABBBBBA'))"
   ]
  },
  {
   "cell_type": "code",
   "execution_count": 35,
   "id": "674f6a26",
   "metadata": {},
   "outputs": [
    {
     "name": "stdout",
     "output_type": "stream",
     "text": [
      "<re.Match object; span=(0, 1), match='A'>\n",
      "<re.Match object; span=(0, 1), match='A'>\n",
      "None\n",
      "<re.Match object; span=(3, 4), match='A'>\n",
      "<re.Match object; span=(1, 3), match='AB'>\n",
      "<re.Match object; span=(1, 3), match='AB'>\n"
     ]
    }
   ],
   "source": [
    "import re\n",
    "print(re.search('AB?','A'))\n",
    "print(re.search('AB?','AA'))\n",
    "print(re.search('AB?','J-HOPE'))\n",
    "print(re.search('AB?','X-MAN'))\n",
    "print(re.search('AB?','CABBA'))\n",
    "print(re.search('AB?','CABBBBBA'))"
   ]
  },
  {
   "cell_type": "code",
   "execution_count": 11,
   "id": "47d30e85",
   "metadata": {
    "scrolled": true
   },
   "outputs": [
    {
     "name": "stdout",
     "output_type": "stream",
     "text": [
      "{'홍길동': 110}\n"
     ]
    }
   ],
   "source": [
    "str={}\n",
    "str[\"홍길동\"]=100\n",
    "sum=lambda x,y:x+y\n",
    "str[\"홍길동\"]=sum(str.get(\"홍길동\"),10)\n",
    "print(str)"
   ]
  },
  {
   "cell_type": "code",
   "execution_count": 7,
   "id": "81161f55",
   "metadata": {},
   "outputs": [
    {
     "name": "stdout",
     "output_type": "stream",
     "text": [
      "문장을 입력하시오 : ataf\n",
      "\n"
     ]
    }
   ],
   "source": [
    "import string\n",
    "def idx(n):\n",
    "    a=str.index(n)\n",
    "    return str2[a]\n",
    "str=string.ascii_uppercase\n",
    "str2=str[3:]+str[:3]\n",
    "str3=input(\"문장을 입력하시오 : \")\n",
    "str4=\"\"\n",
    "for x in str3:\n",
    "    if x in str:\n",
    "        str4+=idx(x)\n",
    "    else:\n",
    "        str4+=\"\"\n",
    "print(str4)"
   ]
  },
  {
   "cell_type": "code",
   "execution_count": 8,
   "id": "04ea0cc2",
   "metadata": {},
   "outputs": [
    {
     "data": {
      "text/plain": [
       "26"
      ]
     },
     "execution_count": 8,
     "metadata": {},
     "output_type": "execute_result"
    }
   ],
   "source": [
    "t=\"There's a reason some people are working to make it harder to vote, especally for people of color. It's because when we show up, things changes.\"\n",
    "len(t.split())"
   ]
  },
  {
   "cell_type": "code",
   "execution_count": 16,
   "id": "17a7f948",
   "metadata": {},
   "outputs": [
    {
     "name": "stdout",
     "output_type": "stream",
     "text": [
      "[article] 200820 blackpink jennie is regarded to have great effect on * mystic red as it was chosen by 50% of those who prebooked for the * galaxy note 20 ( * u+ mystic pink 30%, * mystic blue not disclosed) \n"
     ]
    }
   ],
   "source": [
    "t = '[ARTICLE] 200820 BLACKPINK Jennie is regarded to have great effect on KT Mystic \\\n",
    "Red as it was chosen by 50% of those who prebooked for the Samsung Galaxy Note 20 ( LG \\\n",
    "U+ Mystic Pink 30%, SKT Mystic Blue not disclosed) '\n",
    "t=t.lower()\n",
    "str=t.split()\n",
    "t=\"\"\n",
    "for x in str:\n",
    "    if x==\"skt\" or x==\"lg\" or x==\"kt\" or x==\"samsung\":\n",
    "        t+=\"* \"\n",
    "    else:\n",
    "        t+=x+\" \"\n",
    "print(t)"
   ]
  },
  {
   "cell_type": "code",
   "execution_count": 12,
   "id": "85362961",
   "metadata": {},
   "outputs": [
    {
     "name": "stdout",
     "output_type": "stream",
     "text": [
      "몇 자리의 비밀번호를 원하십니까? 6\n",
      "ZoFKWd\n"
     ]
    }
   ],
   "source": [
    "import string\n",
    "import random\n",
    "str=string.ascii_letters\n",
    "str+=\"0123456789\"\n",
    "otp=\"\"\n",
    "n=int(input(\"몇 자리의 비밀번호를 원하십니까? \"))\n",
    "for i in range(n):\n",
    "    otp+=random.choice(str)\n",
    "print(otp)"
   ]
  },
  {
   "cell_type": "code",
   "execution_count": 17,
   "id": "13bbcd96",
   "metadata": {},
   "outputs": [
    {
     "name": "stdout",
     "output_type": "stream",
     "text": [
      "<re.Match object; span=(37, 41), match='life'>\n",
      "<re.Match object; span=(23, 27), match='life'>\n"
     ]
    }
   ],
   "source": [
    "import re\n",
    "txt1=\"Who are you to judge the life I live life\"\n",
    "txt2=\"The best moments of my life\"\n",
    "print(re.search('life$|Life$',txt1))\n",
    "print(re.search('life$',txt2))"
   ]
  },
  {
   "cell_type": "code",
   "execution_count": 14,
   "id": "d36fff93",
   "metadata": {},
   "outputs": [
    {
     "name": "stdout",
     "output_type": "stream",
     "text": [
      "('서울', 9765) ('광주', 1501) 3838.4\n"
     ]
    }
   ],
   "source": [
    "city_info=[(\"서울\",9765),(\"부산\",3441),(\"인천\",2954),(\"광주\",1501),(\"대전\",1531)]\n",
    "maxvalue=city_info[0][1]\n",
    "minvalue=city_info[0][1]\n",
    "maxcity=city_info[0]\n",
    "mincity=city_info[0]\n",
    "sum=0\n",
    "for city in city_info:\n",
    "    sum+=city[1]\n",
    "    if maxvalue < city[1]:\n",
    "        maxvalue=city[1]\n",
    "        maxcity=city\n",
    "    if minvalue > city[1]:\n",
    "        minvalue=city[1]\n",
    "        mincity=city\n",
    "print(maxcity,mincity,sum/len(city_info))"
   ]
  },
  {
   "cell_type": "code",
   "execution_count": 11,
   "id": "5bda181e",
   "metadata": {},
   "outputs": [
    {
     "name": "stdout",
     "output_type": "stream",
     "text": [
      "{'홍길동': 20, '강감찬': '010-1234-5679'}\n"
     ]
    }
   ],
   "source": [
    "a={\"홍길동\": 10,\"강감찬\" :\"010-1234-5679\"}\n",
    "sum=lambda x, y:x+y\n",
    "a[\"홍길동\"]=sum(a.get(\"홍길동\"),10)\n",
    "print(a)"
   ]
  },
  {
   "cell_type": "code",
   "execution_count": 19,
   "id": "71ba59b9",
   "metadata": {
    "scrolled": true
   },
   "outputs": [
    {
     "name": "stdout",
     "output_type": "stream",
     "text": [
      "문장을 입력하시오: ATTACK\n",
      "DWWDFN\n"
     ]
    }
   ],
   "source": [
    "import string\n",
    "str=string.ascii_uppercase\n",
    "def idx(n):\n",
    "    n2=str.index(n)\n",
    "    return str2[n2]\n",
    "str2=str[3:]+str[:3]\n",
    "str3=input(\"문장을 입력하시오: \")\n",
    "str4=\"\"\n",
    "for s in  str3:\n",
    "    if s in str:\n",
    "        str4+=idx(s)\n",
    "    else:\n",
    "        str4+=\"\"\n",
    "print(str4)"
   ]
  },
  {
   "cell_type": "code",
   "execution_count": 20,
   "id": "70cf8627",
   "metadata": {},
   "outputs": [
    {
     "data": {
      "text/plain": [
       "26"
      ]
     },
     "execution_count": 20,
     "metadata": {},
     "output_type": "execute_result"
    }
   ],
   "source": [
    "t=\"There's a reason some people are working to make it harder to vote, especally for people of color. It's because when we show up, things changes.\"\n",
    "len(t.split())"
   ]
  },
  {
   "cell_type": "code",
   "execution_count": 5,
   "id": "9a1b3b70",
   "metadata": {},
   "outputs": [
    {
     "name": "stdout",
     "output_type": "stream",
     "text": [
      "[article] 200820 blackpink jennie is regarded to have great effect on * mystic red as it was chosen by 50% of those who prebooked for the * galaxy note 20 ( * u+ mystic pink 30%, * mystic blue not disclosed) \n"
     ]
    }
   ],
   "source": [
    "t = '[ARTICLE] 200820 BLACKPINK Jennie is regarded to have great effect on KT Mystic \\\n",
    "Red as it was chosen by 50% of those who prebooked for the Samsung Galaxy Note 20 ( LG \\\n",
    "U+ Mystic Pink 30%, SKT Mystic Blue not disclosed) '\n",
    "t=t.lower()\n",
    "str=t.split()\n",
    "t=\"\"\n",
    "for n in str:\n",
    "    if n ==\"skt\" or n==\"lg\" or n==\"samsung\" or n==\"kt\":\n",
    "        t+=\"*\"+\" \"\n",
    "    else:\n",
    "        t+=n+\" \"\n",
    "print(t)"
   ]
  },
  {
   "cell_type": "code",
   "execution_count": 14,
   "id": "21591082",
   "metadata": {},
   "outputs": [
    {
     "name": "stdout",
     "output_type": "stream",
     "text": [
      "몇 자리의 비밀번호를 원하시니까?7\n",
      "uZD60SC\n"
     ]
    }
   ],
   "source": [
    "import string\n",
    "import random\n",
    "str=string.ascii_letters\n",
    "str+=\"0123456789\"\n",
    "otp=\"\"\n",
    "s=int(input(\"몇 자리의 비밀번호를 원하시니까?\"))\n",
    "for n in range(s):\n",
    "    otp+=random.choice(str)\n",
    "print(otp)"
   ]
  },
  {
   "cell_type": "code",
   "execution_count": 5,
   "id": "72c96ec0",
   "metadata": {},
   "outputs": [
    {
     "name": "stdout",
     "output_type": "stream",
     "text": [
      "[article] 200820 blackpink jennie is regarded to have great effect on kt mystic red as it was chosen by 50% of those who prebooked for the samsung galaxy note 20 ( lg u+ mystic pink 30%, skt mystic blue not disclosed) \n"
     ]
    }
   ],
   "source": [
    "t = '[ARTICLE] 200820 BLACKPINK Jennie is regarded to have great effect on KT Mystic \\\n",
    "Red as it was chosen by 50% of those who prebooked for the Samsung Galaxy Note 20 ( LG \\\n",
    "U+ Mystic Pink 30%, SKT Mystic Blue not disclosed) '\n",
    "t=t.lower()\n",
    "st=t.split(' ')\n",
    "st=\"\"\n",
    "for ch in st:\n",
    "    if ch==\"kt\" or ch==\"skt\" or ch==\"samsung\" or ch==\"lg\":\n",
    "        t=\"*\"+\" \"\n",
    "    else:\n",
    "        t=ch+\" \"\n",
    "print(t)"
   ]
  },
  {
   "cell_type": "code",
   "execution_count": 8,
   "id": "de42abca",
   "metadata": {},
   "outputs": [
    {
     "name": "stdout",
     "output_type": "stream",
     "text": [
      "3 46\n"
     ]
    }
   ],
   "source": [
    "t=\"It's Not The Right Time To Conduct Exams. MY DEMAND IN BOLD AND CAPITAL. NO EXAMS IN COVID!!!\"\n",
    "n=0\n",
    "for ch in t:\n",
    "    if ch.isupper():\n",
    "        n+=1\n",
    "print(t.count(\"!\"),n)"
   ]
  },
  {
   "cell_type": "code",
   "execution_count": 13,
   "id": "ef5e62a3",
   "metadata": {},
   "outputs": [
    {
     "name": "stdout",
     "output_type": "stream",
     "text": [
      "몇 자리의 비밀번호를 원하십니까? 10\n",
      "VcoTDe0NTn\n"
     ]
    }
   ],
   "source": [
    "import random\n",
    "import string\n",
    "otp=\"\"\n",
    "str=string.ascii_letters+\"1234567890\"\n",
    "n=int(input(\"몇 자리의 비밀번호를 원하십니까? \"))\n",
    "for i in range(n):\n",
    "    otp+=random.choice(str)\n",
    "print(otp)"
   ]
  },
  {
   "cell_type": "code",
   "execution_count": 9,
   "id": "f507519f",
   "metadata": {},
   "outputs": [
    {
     "name": "stdout",
     "output_type": "stream",
     "text": [
      "5000\n",
      "2700\n",
      "2300\n",
      "4\n",
      "3\n"
     ]
    }
   ],
   "source": [
    "money=int(input(\"\"))\n",
    "price=int(input(\"\"))\n",
    "change=money-price\n",
    "print(change)\n",
    "s1=change//500\n",
    "change=change%500\n",
    "print(s1)\n",
    "s2=change//100\n",
    "print(s2)"
   ]
  },
  {
   "cell_type": "code",
   "execution_count": 8,
   "id": "f5f547c7",
   "metadata": {},
   "outputs": [
    {
     "name": "stdout",
     "output_type": "stream",
     "text": [
      "[article] 200820 blackpink jennie is regarded to have great effect on * mystic red as it was chosen by 50% of those who prebooked for the * galaxy note 20 ( * u+ mystic pink 30%, * mystic blue not disclosed) \n"
     ]
    }
   ],
   "source": [
    "t = '[ARTICLE] 200820 BLACKPINK Jennie is regarded to have great effect on KT Mystic \\\n",
    "Red as it was chosen by 50% of those who prebooked for the Samsung Galaxy Note 20 ( LG \\\n",
    "U+ Mystic Pink 30%, SKT Mystic Blue not disclosed) '\n",
    "s=\"\"\n",
    "t=t.lower()\n",
    "t=t.split()\n",
    "for i in t:\n",
    "    if i ==\"skt\" or i==\"lg\" or i==\"samsung\" or i==\"kt\":\n",
    "        s+=\"* \"\n",
    "    else:\n",
    "        s+=i+\" \"\n",
    "print(s)"
   ]
  },
  {
   "cell_type": "code",
   "execution_count": null,
   "id": "03542f3b",
   "metadata": {},
   "outputs": [],
   "source": []
  },
  {
   "cell_type": "code",
   "execution_count": null,
   "id": "c96367ee",
   "metadata": {},
   "outputs": [],
   "source": []
  },
  {
   "cell_type": "code",
   "execution_count": null,
   "id": "07c377e9",
   "metadata": {},
   "outputs": [],
   "source": []
  },
  {
   "cell_type": "code",
   "execution_count": null,
   "id": "097f5970",
   "metadata": {},
   "outputs": [],
   "source": []
  },
  {
   "cell_type": "code",
   "execution_count": null,
   "id": "7cbec493",
   "metadata": {},
   "outputs": [],
   "source": []
  }
 ],
 "metadata": {
  "kernelspec": {
   "display_name": "Python 3",
   "language": "python",
   "name": "python3"
  },
  "language_info": {
   "codemirror_mode": {
    "name": "ipython",
    "version": 3
   },
   "file_extension": ".py",
   "mimetype": "text/x-python",
   "name": "python",
   "nbconvert_exporter": "python",
   "pygments_lexer": "ipython3",
   "version": "3.8.8"
  }
 },
 "nbformat": 4,
 "nbformat_minor": 5
}
